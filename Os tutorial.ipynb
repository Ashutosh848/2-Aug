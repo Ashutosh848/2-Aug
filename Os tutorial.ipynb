{
 "cells": [
  {
   "cell_type": "code",
   "execution_count": 8,
   "id": "ae75c578-7910-4cbf-8d01-e5d621912ef8",
   "metadata": {},
   "outputs": [
    {
     "name": "stdout",
     "output_type": "stream",
     "text": [
      "File 'C://Users//delli//Downloads//New Folder//new.html'Created succesfully\n"
     ]
    }
   ],
   "source": [
    "import os\n",
    "\n",
    "file_path = \"C://Users//delli//Downloads//New Folder//new.html\"\n",
    "\n",
    "fd=os.open(file_path,os.O_CREAT | os.O_WRONLY)\n",
    "os.close(fd)\n",
    "\n",
    "print(f\"File '{file_path}'Created succesfully\")"
   ]
  },
  {
   "cell_type": "code",
   "execution_count": 16,
   "id": "795d5dbc-eead-4ee8-94d3-9e5b80513a7e",
   "metadata": {},
   "outputs": [
    {
     "name": "stdout",
     "output_type": "stream",
     "text": [
      "File'C://Users//delli//Downloads//New Folder//ashu//new.txt'Created Successfully with no issues\n"
     ]
    }
   ],
   "source": [
    "import os\n",
    "file_path = \"C://Users//delli//Downloads//New Folder//ashu//new.txt\"\n",
    "fd = os.open(file_path,os.O_CREAT | os.O_WRONLY)\n",
    "os.write(fd,b\"This is the text content(only for testing purpose)\")\n",
    "os.close(fd)\n",
    "print(f\"File'{file_path}'Created Successfully with no issues\")\n"
   ]
  },
  {
   "cell_type": "code",
   "execution_count": null,
   "id": "096facb5-fa7b-41a9-b42a-f66980c29777",
   "metadata": {},
   "outputs": [],
   "source": []
  }
 ],
 "metadata": {
  "kernelspec": {
   "display_name": "Python 3 (ipykernel)",
   "language": "python",
   "name": "python3"
  },
  "language_info": {
   "codemirror_mode": {
    "name": "ipython",
    "version": 3
   },
   "file_extension": ".py",
   "mimetype": "text/x-python",
   "name": "python",
   "nbconvert_exporter": "python",
   "pygments_lexer": "ipython3",
   "version": "3.11.7"
  }
 },
 "nbformat": 4,
 "nbformat_minor": 5
}
