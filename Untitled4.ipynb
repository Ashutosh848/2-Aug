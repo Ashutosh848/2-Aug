{
 "cells": [
  {
   "cell_type": "code",
   "execution_count": 10,
   "id": "89625d72-dd28-44af-ae7e-e6981dcefc93",
   "metadata": {},
   "outputs": [
    {
     "name": "stdin",
     "output_type": "stream",
     "text": [
      "Enter a value: 10\n"
     ]
    },
    {
     "name": "stdout",
     "output_type": "stream",
     "text": [
      "1\n",
      "2\n",
      "3\n",
      "4\n",
      "5\n",
      "6\n",
      "7\n",
      "8\n",
      "9\n",
      "10\n"
     ]
    }
   ],
   "source": [
    "n = int(input(\"Enter a value:\"))\n",
    "for i in range(1,n+1):\n",
    "    print(i)"
   ]
  },
  {
   "cell_type": "code",
   "execution_count": 24,
   "id": "c679c83f-f6e3-411d-915b-37587496c9ec",
   "metadata": {},
   "outputs": [
    {
     "name": "stdin",
     "output_type": "stream",
     "text": [
      "Enter a value 10\n"
     ]
    },
    {
     "name": "stdout",
     "output_type": "stream",
     "text": [
      "10,9,8,7,6,5,4,3,2,1,"
     ]
    }
   ],
   "source": [
    "n = int(input(\"Enter a value\"))\n",
    "for i in range(n,1-1,-1):\n",
    "    print(i,end = ',')"
   ]
  },
  {
   "cell_type": "code",
   "execution_count": 25,
   "id": "d39e8dba-efb6-4854-9793-bb83bfebdc94",
   "metadata": {},
   "outputs": [
    {
     "name": "stdin",
     "output_type": "stream",
     "text": [
      "Enter a value: 10\n"
     ]
    },
    {
     "name": "stdout",
     "output_type": "stream",
     "text": [
      "1,3,5,7,9,"
     ]
    }
   ],
   "source": [
    "n = int(input(\"Enter a value:\"))\n",
    "\n",
    "for i in range(1,n+1,2):\n",
    "    print(i,end=',')"
   ]
  },
  {
   "cell_type": "code",
   "execution_count": 28,
   "id": "dc3b8133-2edc-41ad-b4c2-cc88dd4d5e66",
   "metadata": {},
   "outputs": [
    {
     "name": "stdin",
     "output_type": "stream",
     "text": [
      "Enter a value: 10\n"
     ]
    },
    {
     "name": "stdout",
     "output_type": "stream",
     "text": [
      "1,0,1,0,1,0,1,0,1,"
     ]
    }
   ],
   "source": [
    "n = int(input(\"Enter a value:\"))\n",
    "for i in range(1,n):\n",
    "    if(i%2==0):\n",
    "        print(0,end=',')\n",
    "    else:\n",
    "        print(1,end=',')"
   ]
  },
  {
   "cell_type": "code",
   "execution_count": 29,
   "id": "8ba2aeba-3c11-4312-8b16-94286391f4c7",
   "metadata": {},
   "outputs": [
    {
     "name": "stdin",
     "output_type": "stream",
     "text": [
      "Enter a value: 10\n"
     ]
    },
    {
     "name": "stdout",
     "output_type": "stream",
     "text": [
      "1,2,3,0,1,2,3,0,1,2,"
     ]
    }
   ],
   "source": [
    "n = int(input(\"Enter a value:\"))\n",
    "for i in range(1,n+1):\n",
    "    i = i%4\n",
    "    print(i,end=',')"
   ]
  },
  {
   "cell_type": "code",
   "execution_count": null,
   "id": "e06436be-aeea-44d4-8bb5-e3b773401500",
   "metadata": {},
   "outputs": [],
   "source": [
    "n = int(input(\"Enter a value:\"))\n",
    "for i in range(1,n+1):\n",
    "    i = i%5\n",
    "    print(i,end = ',')\n",
    "\n",
    "\n",
    "    "
   ]
  },
  {
   "cell_type": "code",
   "execution_count": 40,
   "id": "62d54109-f00f-4d8c-bba4-8994017e0841",
   "metadata": {},
   "outputs": [
    {
     "name": "stdin",
     "output_type": "stream",
     "text": [
      "enter a value: 10\n"
     ]
    },
    {
     "name": "stdout",
     "output_type": "stream",
     "text": [
      "1,2,3,5,8,13,21,34,55,89,"
     ]
    }
   ],
   "source": [
    "n = int(input(\"enter a value:\"))\n",
    "num1 = 0\n",
    "num2 = 1\n",
    "count = 1\n",
    "nxt_num = num2\n",
    "while(count<=n):\n",
    "    print(nxt_num,end=',')\n",
    "    count+=1\n",
    "    num1,num2=num2,nxt_num\n",
    "    nxt_num = num1 + num2\n"
   ]
  },
  {
   "cell_type": "code",
   "execution_count": 47,
   "id": "5147a002-e4b8-452b-a285-b6927c638c9a",
   "metadata": {},
   "outputs": [
    {
     "name": "stdin",
     "output_type": "stream",
     "text": [
      "Enter a value: 10\n"
     ]
    },
    {
     "name": "stdout",
     "output_type": "stream",
     "text": [
      "1\n",
      "2\n",
      "4\n",
      "7\n",
      "13\n",
      "24\n",
      "44\n",
      "81\n",
      "149\n",
      "274\n"
     ]
    }
   ],
   "source": [
    "n = int(input(\"Enter a value:\"))\n",
    "num1= 0\n",
    "num2 = 0\n",
    "num3=1\n",
    "count= 1\n",
    "nxtnum=num3\n",
    "\n",
    "while(count<=n):\n",
    "    print(nxtnum)\n",
    "    count+=1\n",
    "    num1,num2,num3=num2,num3,nxtnum\n",
    "    nxtnum=num1+num2+num3\n",
    "    \n",
    "    "
   ]
  },
  {
   "cell_type": "code",
   "execution_count": 50,
   "id": "82a7b6c4-4ffb-4e58-bda4-4b5f59f7ce95",
   "metadata": {},
   "outputs": [
    {
     "name": "stdin",
     "output_type": "stream",
     "text": [
      "Enter a vlaue: 123\n"
     ]
    },
    {
     "name": "stdout",
     "output_type": "stream",
     "text": [
      "The sum of the digit is  6\n"
     ]
    }
   ],
   "source": [
    "n = int(input(\"Enter a vlaue:\"))\n",
    "sum = 0\n",
    "\n",
    "while(n!=0):\n",
    "    digit = n%10\n",
    "    sum = sum + digit\n",
    "    n = n//10\n",
    "print(\"The sum of the digit is \",sum)"
   ]
  },
  {
   "cell_type": "code",
   "execution_count": 8,
   "id": "b660e6f8-874f-454d-ae46-aa1bf1f4a24e",
   "metadata": {},
   "outputs": [
    {
     "name": "stdin",
     "output_type": "stream",
     "text": [
      "Enter a value: 123\n"
     ]
    },
    {
     "name": "stdout",
     "output_type": "stream",
     "text": [
      "3\n"
     ]
    }
   ],
   "source": [
    "n = int(input(\"Enter a value:\"))\n",
    "count = 0\n",
    "\n",
    "while(n!=0):\n",
    "    count = count +1\n",
    "    n=n//10\n",
    "print(count)    "
   ]
  },
  {
   "cell_type": "code",
   "execution_count": 9,
   "id": "88925efc-dc4b-4467-b919-c3d7ecc45cae",
   "metadata": {},
   "outputs": [
    {
     "name": "stdin",
     "output_type": "stream",
     "text": [
      "Enter a value: 123\n"
     ]
    },
    {
     "name": "stdout",
     "output_type": "stream",
     "text": [
      "321\n"
     ]
    }
   ],
   "source": [
    "n = int(input(\"Enter a value:\"))\n",
    "rev = 0\n",
    "while(n!=0):\n",
    "    digit = n%10\n",
    "    rev = rev*10 + digit\n",
    "    n=n//10\n",
    "print(rev)"
   ]
  },
  {
   "cell_type": "code",
   "execution_count": 19,
   "id": "99c9b03c-bde8-44f5-b276-06452df40562",
   "metadata": {},
   "outputs": [
    {
     "name": "stdin",
     "output_type": "stream",
     "text": [
      "Enter a value: 123\n"
     ]
    },
    {
     "name": "stdout",
     "output_type": "stream",
     "text": [
      "No palindrome\n"
     ]
    }
   ],
   "source": [
    "n = int(input(\"Enter a value:\"))\n",
    "temp = n\n",
    "rev = 0\n",
    "\n",
    "while(n!=0):\n",
    "    digit = n%10\n",
    "    rev = rev*10 + digit\n",
    "    n = n//10\n",
    "if(temp==rev):\n",
    "    print(\"Palindrome\")\n",
    "else:\n",
    "    print(\"No palindrome\")"
   ]
  },
  {
   "cell_type": "code",
   "execution_count": 23,
   "id": "66d1804d-83cf-424f-9038-186ca74c50de",
   "metadata": {},
   "outputs": [
    {
     "name": "stdin",
     "output_type": "stream",
     "text": [
      "Enter a num: 5\n"
     ]
    },
    {
     "name": "stdout",
     "output_type": "stream",
     "text": [
      "120\n"
     ]
    }
   ],
   "source": [
    "n = int(input(\"Enter a num:\"))\n",
    "fact = 1\n",
    "for i in range(1,n+1):\n",
    "    fact = fact*i\n",
    "print(fact)"
   ]
  },
  {
   "cell_type": "code",
   "execution_count": 12,
   "id": "fa15fa4f-1ba8-46d9-94d6-0b20d3e25b1a",
   "metadata": {},
   "outputs": [
    {
     "name": "stdin",
     "output_type": "stream",
     "text": [
      "Enter a value: 5\n"
     ]
    },
    {
     "name": "stdout",
     "output_type": "stream",
     "text": [
      " *\n",
      " * *\n",
      " * * *\n",
      " * * * *\n",
      " * * * * *\n",
      " * * * * * *\n"
     ]
    }
   ],
   "source": [
    "n = int(input(\"Enter a value:\"))\n",
    "\n",
    "for i in range(0,n+1):\n",
    "    for j in range(0,i+1):\n",
    "        print(\" *\",end='')\n",
    "    print()"
   ]
  },
  {
   "cell_type": "code",
   "execution_count": 14,
   "id": "f806852e-4d9e-4835-955d-3c746e2b3a9d",
   "metadata": {},
   "outputs": [
    {
     "name": "stdin",
     "output_type": "stream",
     "text": [
      "Enter a value: 5\n"
     ]
    },
    {
     "name": "stdout",
     "output_type": "stream",
     "text": [
      "* * * * * \n",
      "* * * * * \n",
      "* * * * * \n",
      "* * * * * \n",
      "* * * * * \n",
      "* * * * * \n"
     ]
    }
   ],
   "source": [
    "n = int(input(\"Enter a value:\"))\n",
    "\n",
    "for i in range(0,n+1):\n",
    "    for j in range(n):\n",
    "        print(\"* \",end = '')\n",
    "    print()"
   ]
  },
  {
   "cell_type": "code",
   "execution_count": 7,
   "id": "cf159df7-854c-4500-af19-dcf79d80923a",
   "metadata": {},
   "outputs": [
    {
     "name": "stdout",
     "output_type": "stream",
     "text": [
      "6\n"
     ]
    }
   ],
   "source": [
    "def sum(n):\n",
    "    sum = 0\n",
    "    while(n!=0):\n",
    "        digit = n%10\n",
    "        sum = sum+digit\n",
    "        n = n//10\n",
    "    print(sum)\n",
    "\n",
    "sum(123)"
   ]
  },
  {
   "cell_type": "code",
   "execution_count": 6,
   "id": "4bb6dc3b-2563-492c-b9e1-89137b70c984",
   "metadata": {},
   "outputs": [
    {
     "name": "stdout",
     "output_type": "stream",
     "text": [
      "3\n"
     ]
    }
   ],
   "source": [
    "def count(n):\n",
    "    count = 1\n",
    "    while(count<=n):\n",
    "        digit = n%10\n",
    "        count+=1\n",
    "        n//=10\n",
    "    print(count)\n",
    "\n",
    "count(234)"
   ]
  },
  {
   "cell_type": "code",
   "execution_count": 8,
   "id": "3b3fd55a-a6b6-4a66-93ab-d68c0f032fa2",
   "metadata": {},
   "outputs": [
    {
     "name": "stdout",
     "output_type": "stream",
     "text": [
      "321\n"
     ]
    }
   ],
   "source": [
    "def rev_num(n):\n",
    "    rev = 0\n",
    "    while(n!=0):\n",
    "        digit = n%10\n",
    "        rev = rev*10 + digit\n",
    "        n//=10\n",
    "    print(rev)\n",
    "\n",
    "rev_num(123)"
   ]
  },
  {
   "cell_type": "code",
   "execution_count": 12,
   "id": "2f83b1a0-6d7a-47e5-abf2-3646cd56af46",
   "metadata": {},
   "outputs": [
    {
     "name": "stdout",
     "output_type": "stream",
     "text": [
      "This is a palindrome No.:1331\n"
     ]
    }
   ],
   "source": [
    "def palin(n):\n",
    "    rev = 0\n",
    "    temp = n\n",
    "    while(n!=0):\n",
    "        digit = n%10\n",
    "        rev = rev*10 +digit\n",
    "        n//=10\n",
    "    if(rev==temp):\n",
    "        print(f\"This is a palindrome No.:{temp}\")\n",
    "    else:\n",
    "        print(f\"This is not a palindrome {temp} \")\n",
    "\n",
    "palin(1331)"
   ]
  },
  {
   "cell_type": "code",
   "execution_count": 17,
   "id": "5a1bfd21-f3a1-4c65-a976-27ff6c8b4271",
   "metadata": {},
   "outputs": [
    {
     "name": "stdout",
     "output_type": "stream",
     "text": [
      "This is an armstrong No 153 \n"
     ]
    }
   ],
   "source": [
    "def armstrong(n):\n",
    "    rev = 0\n",
    "    temp = n\n",
    "    while(n!=0):\n",
    "        digit = n%10\n",
    "        rev = digit **3 + rev\n",
    "        n//=10\n",
    "    if(rev == temp):\n",
    "        print(f\"This is an armstrong No {temp} \")\n",
    "    else:\n",
    "        print(\"This is not an armstrong no\")\n",
    "\n",
    "\n",
    "armstrong(153)"
   ]
  },
  {
   "cell_type": "code",
   "execution_count": 19,
   "id": "15cdc748-6840-46a0-8269-829e912d78dc",
   "metadata": {},
   "outputs": [
    {
     "name": "stdin",
     "output_type": "stream",
     "text": [
      "Enter a value: 2842\n"
     ]
    },
    {
     "name": "stdout",
     "output_type": "stream",
     "text": [
      "4\n"
     ]
    }
   ],
   "source": [
    "n = int(input(\"Enter a value:\"))\n",
    "count = 0\n",
    "while(n!=0):\n",
    "    count = count+1\n",
    "    n//=10\n",
    "print(count)"
   ]
  },
  {
   "cell_type": "code",
   "execution_count": 22,
   "id": "440eb5d6-0eb4-4583-9c08-76108f5c1df6",
   "metadata": {},
   "outputs": [
    {
     "name": "stdout",
     "output_type": "stream",
     "text": [
      "28372\n"
     ]
    }
   ],
   "source": [
    "def rev2(n):\n",
    "    rev = 0\n",
    "    while(n!=0):\n",
    "        digit = n%10\n",
    "        rev = rev*10 + digit\n",
    "        n = n//10\n",
    "    print(rev)\n",
    "\n",
    "rev2(27382)"
   ]
  },
  {
   "cell_type": "code",
   "execution_count": 25,
   "id": "1d4be856-8e09-42e3-a9ed-c8c6cae16c5a",
   "metadata": {},
   "outputs": [
    {
     "name": "stdout",
     "output_type": "stream",
     "text": [
      "This is not a palindorme no.\n"
     ]
    }
   ],
   "source": [
    "def palin(n):\n",
    "    rev = 0\n",
    "    temp = n\n",
    "    while(n!=0):\n",
    "        digit = n%10\n",
    "        rev = rev*10 + digit\n",
    "        n//=10\n",
    "    if(rev == temp):\n",
    "        print(f\"This is a palindrome No.{rev}\")\n",
    "    else:\n",
    "        print(\"This is not a palindorme no.\")\n",
    "\n",
    "palin(1321)"
   ]
  },
  {
   "cell_type": "code",
   "execution_count": 29,
   "id": "05c4c90d-4099-49a7-a033-559fea389766",
   "metadata": {},
   "outputs": [
    {
     "name": "stdout",
     "output_type": "stream",
     "text": [
      "The sum is = 12 \n"
     ]
    }
   ],
   "source": [
    "def sum(n):\n",
    "    sum = 0\n",
    "    while(n!=0):\n",
    "        digit = n%10\n",
    "        sum = sum + digit\n",
    "        n//=10\n",
    "    print(f\"The sum is = {sum} \")\n",
    "\n",
    "\n",
    "sum(273)"
   ]
  },
  {
   "cell_type": "code",
   "execution_count": 34,
   "id": "cf1fb54c-f88f-442c-981e-13349b92cd32",
   "metadata": {},
   "outputs": [
    {
     "name": "stdout",
     "output_type": "stream",
     "text": [
      "This is an armstrong No. 407 \n"
     ]
    }
   ],
   "source": [
    "def arm(n):\n",
    "    rev = 0\n",
    "    temp = n\n",
    "    while(n!=0):\n",
    "        digit = n%10\n",
    "        rev = digit**3 + rev\n",
    "        n//=10\n",
    "    if(rev == temp):\n",
    "        print(f\"This is an armstrong No. {rev} \")\n",
    "    else:\n",
    "        print(\"This is not an armstrong No.\")\n",
    "\n",
    "arm(407)"
   ]
  },
  {
   "cell_type": "code",
   "execution_count": 36,
   "id": "b40c8020-7c46-457c-8a53-8a65dcca395b",
   "metadata": {},
   "outputs": [
    {
     "name": "stdout",
     "output_type": "stream",
     "text": [
      "  *\n",
      "  * *\n",
      "  * * *\n",
      "  * * * *\n",
      "  * * * * *\n"
     ]
    }
   ],
   "source": [
    "def left(n):\n",
    "    for i in range(1,n+1):\n",
    "        print(\" \",end = '')\n",
    "        for j in range(i):\n",
    "            print(\" *\",end = '')\n",
    "        print()\n",
    "\n",
    "left(5)"
   ]
  },
  {
   "cell_type": "code",
   "execution_count": 43,
   "id": "dfd67758-4a93-49bd-aaa3-79ca89cb876b",
   "metadata": {},
   "outputs": [
    {
     "name": "stdout",
     "output_type": "stream",
     "text": [
      "    *\n",
      "   ***\n",
      "  *****\n",
      " *******\n",
      "*********\n"
     ]
    }
   ],
   "source": [
    "def right(n):\n",
    "    for i in range(1,n+1):\n",
    "        for j in range(n-i):\n",
    "            print(\" \",end = '')\n",
    "        for k in range(1,i*2):\n",
    "            print(\"*\",end = \"\")\n",
    "        print()\n",
    "\n",
    "right(5)"
   ]
  },
  {
   "cell_type": "code",
   "execution_count": 48,
   "id": "64caa0da-a7bf-443e-93c9-1b3d70ae31a0",
   "metadata": {},
   "outputs": [
    {
     "name": "stdout",
     "output_type": "stream",
     "text": [
      "Not Weird\n"
     ]
    }
   ],
   "source": [
    "def hack(n):\n",
    "    if(n%2!=0):\n",
    "        print(\"Weird\")\n",
    "    elif(n%2==0)&(n>=2)&(n<=5):\n",
    "        print(\"Not Weird\")\n",
    "    elif(n%2==0)&(n>=6)&(n<=20):\n",
    "        print(\"Weird\")\n",
    "    elif(n%2==0)&(n>20):\n",
    "        print(\"Not Weird\")\n",
    "\n",
    "hack(24)"
   ]
  },
  {
   "cell_type": "code",
   "execution_count": 49,
   "id": "77f639c9-3996-4e3f-baaa-949cd9dfc871",
   "metadata": {},
   "outputs": [
    {
     "name": "stdin",
     "output_type": "stream",
     "text": [
      "Enter a value 3\n",
      "Enter a value 3\n"
     ]
    },
    {
     "name": "stdout",
     "output_type": "stream",
     "text": [
      "6\n",
      "0\n",
      "9\n"
     ]
    }
   ],
   "source": [
    "a = int(input(\"Enter a value\"))\n",
    "b = int(input(\"Enter a value\"))\n",
    "print(a+b)\n",
    "print(a-b)\n",
    "print(a*b)\n"
   ]
  },
  {
   "cell_type": "code",
   "execution_count": 51,
   "id": "425a84d9-7019-4fa9-b19a-c040ba06181f",
   "metadata": {},
   "outputs": [
    {
     "name": "stdin",
     "output_type": "stream",
     "text": [
      "Enter a value= 5\n"
     ]
    },
    {
     "name": "stdout",
     "output_type": "stream",
     "text": [
      "1\n",
      "4\n",
      "9\n",
      "16\n",
      "25\n"
     ]
    }
   ],
   "source": [
    "n = int(input(\"Enter a value=\"))\n",
    "\n",
    "for i in range(1,n+1):\n",
    "    i=i**2\n",
    "    print(i)"
   ]
  },
  {
   "cell_type": "code",
   "execution_count": 52,
   "id": "3dfb8207-c8c3-4fa8-918c-b50346b343f2",
   "metadata": {},
   "outputs": [
    {
     "name": "stdin",
     "output_type": "stream",
     "text": [
      "Enter a value: 5\n"
     ]
    },
    {
     "name": "stdout",
     "output_type": "stream",
     "text": [
      "12345"
     ]
    }
   ],
   "source": [
    "n = int(input(\"Enter a value:\"))\n",
    "\n",
    "for i in range(1,n+1):\n",
    "    print(i,end = '')"
   ]
  },
  {
   "cell_type": "code",
   "execution_count": 103,
   "id": "9c1c7e8f-0dd0-468f-873e-805782977fe2",
   "metadata": {},
   "outputs": [
    {
     "data": {
      "text/plain": [
       "[43, 9301]"
      ]
     },
     "execution_count": 103,
     "metadata": {},
     "output_type": "execute_result"
    }
   ],
   "source": [
    "list = [1,23,43,56,29,91,9301,31]\n",
    "list[2::4]"
   ]
  },
  {
   "cell_type": "code",
   "execution_count": 105,
   "id": "4548a98b-a4d6-40b7-9f0b-b53f4350f6a4",
   "metadata": {},
   "outputs": [
    {
     "name": "stdout",
     "output_type": "stream",
     "text": [
      "<class 'set'>\n"
     ]
    }
   ],
   "source": [
    "dict = (12,23,3)\n",
    "print(type)"
   ]
  },
  {
   "cell_type": "code",
   "execution_count": 1,
   "id": "bf34da18-c2cf-4566-bbfa-286ccf9bf776",
   "metadata": {},
   "outputs": [
    {
     "ename": "SyntaxError",
     "evalue": "expected ':' (376703878.py, line 2)",
     "output_type": "error",
     "traceback": [
      "\u001b[1;36m  Cell \u001b[1;32mIn[1], line 2\u001b[1;36m\u001b[0m\n\u001b[1;33m    for r in range(1)\u001b[0m\n\u001b[1;37m                     ^\u001b[0m\n\u001b[1;31mSyntaxError\u001b[0m\u001b[1;31m:\u001b[0m expected ':'\n"
     ]
    }
   ],
   "source": [
    "n = 5\n",
    "for r in range(1)"
   ]
  },
  {
   "cell_type": "code",
   "execution_count": null,
   "id": "19bf7e5d-848d-4f81-8cc6-4306d1b953e3",
   "metadata": {},
   "outputs": [],
   "source": []
  }
 ],
 "metadata": {
  "kernelspec": {
   "display_name": "Python 3 (ipykernel)",
   "language": "python",
   "name": "python3"
  },
  "language_info": {
   "codemirror_mode": {
    "name": "ipython",
    "version": 3
   },
   "file_extension": ".py",
   "mimetype": "text/x-python",
   "name": "python",
   "nbconvert_exporter": "python",
   "pygments_lexer": "ipython3",
   "version": "3.11.7"
  }
 },
 "nbformat": 4,
 "nbformat_minor": 5
}
