{
 "cells": [
  {
   "cell_type": "code",
   "execution_count": 1,
   "id": "da1ed9ff-1ce9-40a0-82b7-39d13ba3c315",
   "metadata": {},
   "outputs": [],
   "source": [
    "s = \"Ashutosh Tiwari\""
   ]
  },
  {
   "cell_type": "code",
   "execution_count": 2,
   "id": "69897789-2f8e-4f97-bae0-abfe45cc4fd6",
   "metadata": {},
   "outputs": [
    {
     "data": {
      "text/plain": [
       "['Ashutosh', 'Tiwari']"
      ]
     },
     "execution_count": 2,
     "metadata": {},
     "output_type": "execute_result"
    }
   ],
   "source": [
    "s.split()"
   ]
  },
  {
   "cell_type": "code",
   "execution_count": 12,
   "id": "104edd75-33d8-4acd-a72a-b6d00cbbb3b9",
   "metadata": {},
   "outputs": [
    {
     "name": "stdout",
     "output_type": "stream",
     "text": [
      "<class 'str'> ['Ashutosh', 'Tiwari'] Ashutosh Tiwari\n"
     ]
    }
   ],
   "source": [
    "print(type(s.strip()),s.split(),)"
   ]
  },
  {
   "cell_type": "code",
   "execution_count": 53,
   "id": "dd608578-f86c-491e-95e7-b4a41c85a443",
   "metadata": {},
   "outputs": [
    {
     "name": "stdout",
     "output_type": "stream",
     "text": [
      "1\n",
      "22\n",
      "333\n",
      "4444\n",
      "55555\n"
     ]
    }
   ],
   "source": [
    "n = 5\n",
    "for r in range(1,n+1):\n",
    "    for c in range(1,r+1):\n",
    "        print(r,end = '')\n",
    "    print()"
   ]
  },
  {
   "cell_type": "code",
   "execution_count": 1,
   "id": "bc5266f1-27fd-4fd0-8b2b-4de2c17622f4",
   "metadata": {},
   "outputs": [
    {
     "name": "stdout",
     "output_type": "stream",
     "text": [
      "1\n",
      "23\n",
      "456\n",
      "78910\n",
      "1112131415\n"
     ]
    }
   ],
   "source": [
    "n = 5\n",
    "num = 1\n",
    "for r in range(1,n+1):\n",
    "    for c in range(1,r+1):\n",
    "        print(num,end = '')\n",
    "        num+=1\n",
    "    print()"
   ]
  },
  {
   "cell_type": "code",
   "execution_count": 6,
   "id": "04d39c9e-e027-4a4a-8cb2-aad1e5d7e601",
   "metadata": {},
   "outputs": [
    {
     "name": "stdin",
     "output_type": "stream",
     "text": [
      "Enter a val: 2\n",
      "Enter Elements: 12\n",
      "Enter Elements: 23\n"
     ]
    },
    {
     "name": "stdout",
     "output_type": "stream",
     "text": [
      "The List is : [12, 23]\n",
      "The maximum number in the list is: 23 \n"
     ]
    }
   ],
   "source": [
    "n = int(input(\"Enter a val:\"))\n",
    "a = []\n",
    "max = 0\n",
    "for i in range(n):\n",
    "    val = int(input(\"Enter Elements:\"))\n",
    "    a.append(val)\n",
    "while(a[i]>max):\n",
    "    if a[i]>max:\n",
    "        max = a[i]\n",
    "print(f\"The List is : {a}\")\n",
    "print(f\"The maximum number in the list is: {max} \")\n",
    "    \n"
   ]
  },
  {
   "cell_type": "code",
   "execution_count": 13,
   "id": "51ef3e3c-b2a3-4363-bdff-52928c2b8ce9",
   "metadata": {},
   "outputs": [
    {
     "name": "stdin",
     "output_type": "stream",
     "text": [
      "Enter a value: 2\n",
      "Enter Elements:- 12\n",
      "Enter Elements:- 23\n"
     ]
    },
    {
     "name": "stdout",
     "output_type": "stream",
     "text": [
      "0\n"
     ]
    }
   ],
   "source": [
    "n = int(input(\"Enter a value:\"))\n",
    "a = []\n",
    "for i in range(n):\n",
    "    val = int(input(\"Enter Elements:-\"))\n",
    "    a.append(val)\n",
    "while(a[i]<min):\n",
    "    if a[i]<min:\n",
    "        a[i]=min\n",
    "print(min)"
   ]
  },
  {
   "cell_type": "code",
   "execution_count": null,
   "id": "6a9b4a56-4702-426f-a373-b36a509700b4",
   "metadata": {},
   "outputs": [],
   "source": []
  }
 ],
 "metadata": {
  "kernelspec": {
   "display_name": "Python 3 (ipykernel)",
   "language": "python",
   "name": "python3"
  },
  "language_info": {
   "codemirror_mode": {
    "name": "ipython",
    "version": 3
   },
   "file_extension": ".py",
   "mimetype": "text/x-python",
   "name": "python",
   "nbconvert_exporter": "python",
   "pygments_lexer": "ipython3",
   "version": "3.11.7"
  }
 },
 "nbformat": 4,
 "nbformat_minor": 5
}
