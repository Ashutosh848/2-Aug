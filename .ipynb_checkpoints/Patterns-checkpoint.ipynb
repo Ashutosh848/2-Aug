{
 "cells": [
  {
   "cell_type": "code",
   "execution_count": 9,
   "id": "0049796c-d49f-4d4a-a2fa-2cbc2d09d22e",
   "metadata": {},
   "outputs": [
    {
     "name": "stdout",
     "output_type": "stream",
     "text": [
      "* \n",
      "* * \n",
      "* * * \n",
      "* * * * \n",
      "* * * * * \n",
      "* * * * * * \n"
     ]
    }
   ],
   "source": [
    "#wap to print left handed triangle.\n",
    "def left_tri(n):\n",
    "    for i in range(0,n+1):\n",
    "        for j in range(i+1):\n",
    "            print(\"* \",end='')\n",
    "        print()\n",
    "\n",
    "left_tri(5)"
   ]
  },
  {
   "cell_type": "code",
   "execution_count": 24,
   "id": "36d66971-47bd-4003-b688-d1a80d0b6321",
   "metadata": {},
   "outputs": [
    {
     "name": "stdout",
     "output_type": "stream",
     "text": [
      "    *\n",
      "   **\n",
      "  ***\n",
      " ****\n",
      "*****\n"
     ]
    }
   ],
   "source": [
    "def right_tri(n):\n",
    "    for i in range(1,n+1):\n",
    "        for j in range(n-i):\n",
    "            print(\" \",end=\"\")\n",
    "        for k in range(i):\n",
    "            print(\"*\",end=\"\")\n",
    "        print()\n",
    "\n",
    "right_tri(5)"
   ]
  },
  {
   "cell_type": "code",
   "execution_count": 2,
   "id": "9f7ecf80-05e2-40c8-880a-9b6f229071ab",
   "metadata": {},
   "outputs": [
    {
     "name": "stdout",
     "output_type": "stream",
     "text": [
      "    *\n",
      "   ***\n",
      "  *****\n",
      " *******\n",
      "*********\n"
     ]
    }
   ],
   "source": [
    "def centre_tri(n):\n",
    "    for i in range(1,n+1):\n",
    "        for j in range(n-i):\n",
    "            print(\" \",end = '')\n",
    "        for k in range(1,i*2):\n",
    "            print(\"*\",end = '')\n",
    "        print()\n",
    "\n",
    "centre_tri(5)"
   ]
  },
  {
   "cell_type": "code",
   "execution_count": 88,
   "id": "c4819647-9145-4b87-b266-b17cdc57a2d4",
   "metadata": {},
   "outputs": [
    {
     "name": "stdout",
     "output_type": "stream",
     "text": [
      "*****\n",
      "****\n",
      "***\n",
      "**\n",
      "*\n"
     ]
    }
   ],
   "source": [
    "def rev_left(n):\n",
    "    for i in range(n,0,-1):\n",
    "        for j in range(i):\n",
    "            print(\"*\",end = '')\n",
    "        print()\n",
    "\n",
    "rev_left(5)"
   ]
  },
  {
   "cell_type": "code",
   "execution_count": 12,
   "id": "efc58b28-6e98-482a-9137-e0608ba51726",
   "metadata": {},
   "outputs": [
    {
     "name": "stdout",
     "output_type": "stream",
     "text": [
      "*****\n",
      "*****\n",
      "*****\n",
      "*****\n",
      "*****\n"
     ]
    }
   ],
   "source": [
    "def rectangle(n):\n",
    "    for i in range(1,n+1):\n",
    "        for j in range(n):\n",
    "            print(\"*\",end=\"\")\n",
    "        print()\n",
    "\n",
    "rectangle(5)\n"
   ]
  },
  {
   "cell_type": "markdown",
   "id": "73a2de44-9607-4f70-b896-2d3c0b403597",
   "metadata": {},
   "source": [
    "##### "
   ]
  },
  {
   "cell_type": "code",
   "execution_count": 2,
   "id": "0254e8e6-57f6-4106-ad72-cf693cf843e2",
   "metadata": {},
   "outputs": [
    {
     "name": "stdout",
     "output_type": "stream",
     "text": [
      "* \n",
      "* * \n",
      "* * * \n",
      "* * * * \n",
      "* * * * * \n"
     ]
    }
   ],
   "source": [
    "n = 5\n",
    "for i in range(1,n+1):\n",
    "    for j in range(i):\n",
    "        print(\"* \",end='')\n",
    "    print()"
   ]
  },
  {
   "cell_type": "code",
   "execution_count": 6,
   "id": "becb1129-7d2c-450a-8a5a-178c3a3012a3",
   "metadata": {},
   "outputs": [
    {
     "name": "stdout",
     "output_type": "stream",
     "text": [
      "    *\n",
      "   **\n",
      "  ***\n",
      " ****\n",
      "*****\n"
     ]
    }
   ],
   "source": [
    "n = 5\n",
    "for i in range(1,n+1):\n",
    "    for j in range(n-i):\n",
    "        print(\" \",end = '')\n",
    "    for k in range(i):\n",
    "        print(\"*\",end = '')\n",
    "    print()"
   ]
  },
  {
   "cell_type": "code",
   "execution_count": 16,
   "id": "b6ec350c-b611-4a02-867f-13bfc7e257fc",
   "metadata": {},
   "outputs": [
    {
     "name": "stdout",
     "output_type": "stream",
     "text": [
      "*****\n",
      "   *\n",
      "  *\n",
      " *\n",
      "*****\n"
     ]
    }
   ],
   "source": [
    "def print_z(n):\n",
    "    for i in range(n):\n",
    "        if i==0 or i==n-1:\n",
    "            print(\"*\" * n)\n",
    "        else:\n",
    "            print(' '*(n-i-1) +\"*\")\n",
    "            \n",
    "\n",
    "\n",
    "\n",
    "print_z(5)"
   ]
  },
  {
   "cell_type": "code",
   "execution_count": 1,
   "id": "7a57b123-a738-4620-97d4-1373703266d1",
   "metadata": {},
   "outputs": [
    {
     "name": "stdout",
     "output_type": "stream",
     "text": [
      "* * * * * \n",
      "* * * * \n",
      "* * * \n",
      "* * \n",
      "* \n",
      "* * \n",
      "* * * \n",
      "* * * * \n",
      "* * * * * \n"
     ]
    }
   ],
   "source": [
    "n = 5\n",
    "for row in range(1,2*n):\n",
    "    if(row<=n):\n",
    "        total=n-row+1\n",
    "    else:\n",
    "        total=row-n+1\n",
    "    for col in range(1,total+1):\n",
    "        print(\"* \",end = '')\n",
    "    print()\n"
   ]
  },
  {
   "cell_type": "code",
   "execution_count": 2,
   "id": "95ec2af1-7183-4153-8041-1a9686002cf3",
   "metadata": {},
   "outputs": [
    {
     "name": "stdout",
     "output_type": "stream",
     "text": [
      "* \n",
      "* * \n",
      "* * * \n",
      "* * * * \n",
      "* * * * * \n",
      "* * * * \n",
      "* * * \n",
      "* * \n",
      "* \n"
     ]
    }
   ],
   "source": [
    "n = 5\n",
    "for row in range(1,2*n):\n",
    "    if(row<=n):\n",
    "        total=row\n",
    "    else:\n",
    "        total=2*n-row\n",
    "    for col in range(1,total+1):\n",
    "        print(\"* \",end='')\n",
    "    print()"
   ]
  },
  {
   "cell_type": "code",
   "execution_count": 1,
   "id": "de8cb7eb-3ffe-4a46-a8e2-5f149dc2fc8f",
   "metadata": {},
   "outputs": [
    {
     "name": "stdout",
     "output_type": "stream",
     "text": [
      "* \n",
      "* * \n",
      "* * * \n",
      "* * * * \n",
      "* * * * * \n",
      "* * * * * \n",
      "* * * * \n",
      "* * * \n",
      "* * \n",
      "* \n"
     ]
    }
   ],
   "source": [
    "n = 5\n",
    "for row in range(1,2*n+1):\n",
    "    if(row<=n):\n",
    "        total = row\n",
    "    else:\n",
    "        total = 2*n-row+1\n",
    "    for col in range(1,total+1):\n",
    "        print(\"* \",end ='')\n",
    "    print()"
   ]
  },
  {
   "cell_type": "code",
   "execution_count": 2,
   "id": "ed8597a3-f7fb-45cd-a024-56f34adf36ba",
   "metadata": {},
   "outputs": [
    {
     "name": "stdout",
     "output_type": "stream",
     "text": [
      "* * * * * \n",
      "* * * * \n",
      "* * * \n",
      "* * \n",
      "* \n",
      "* \n",
      "* * \n",
      "* * * \n",
      "* * * * \n",
      "* * * * * \n"
     ]
    }
   ],
   "source": [
    "n = 5\n",
    "for row in range(1,2*n+1):\n",
    "    if(row<=n):\n",
    "        total = n-row+1\n",
    "    else:\n",
    "        total = row-n\n",
    "    for col in range(1,total+1):\n",
    "        print(\"* \",end = '')\n",
    "    print()\n",
    "        "
   ]
  },
  {
   "cell_type": "code",
   "execution_count": 2,
   "id": "2a605f92-2c4d-48e1-8e86-b0497f4f4df4",
   "metadata": {},
   "outputs": [
    {
     "name": "stdout",
     "output_type": "stream",
     "text": [
      "     * \n",
      "    * * \n",
      "   * * * \n",
      "  * * * * \n",
      " * * * * * \n",
      "  * * * * \n",
      "   * * * \n",
      "    * * \n",
      "     * \n"
     ]
    }
   ],
   "source": [
    "n = 5\n",
    "\n",
    "for row in range(1,2*n):\n",
    "    if(row<=n):\n",
    "        total = row\n",
    "    else:\n",
    "        total = 2*n-row\n",
    "    nfs = n-total\n",
    "    for s in range(0,nfs+1):\n",
    "        print(\" \",end = '')\n",
    "    for col in range(1,total+1):\n",
    "        print(\"* \",end ='')\n",
    "    print()"
   ]
  },
  {
   "cell_type": "code",
   "execution_count": 3,
   "id": "56e419ec-ab80-43bf-baee-17e8d9a4d923",
   "metadata": {},
   "outputs": [
    {
     "name": "stdout",
     "output_type": "stream",
     "text": [
      "     * \n",
      "    * * \n",
      "   * * * \n",
      "  * * * * \n",
      " * * * * * \n",
      " * * * * * \n",
      "  * * * * \n",
      "   * * * \n",
      "    * * \n",
      "     * \n"
     ]
    }
   ],
   "source": [
    "n = 5\n",
    "for row in range(1,2*n+1):\n",
    "    if(row<=n):\n",
    "        total = row;\n",
    "    else:\n",
    "        total = 2*n - row + 1\n",
    "    nfs = n-total\n",
    "    for s in range(0,nfs+1):\n",
    "        print(\" \",end = '')\n",
    "    for col in range(1,total+1):\n",
    "        print(\"* \",end = '')\n",
    "    print()"
   ]
  },
  {
   "cell_type": "code",
   "execution_count": 14,
   "id": "e2d2a56e-993a-4994-b606-4f8173bd5747",
   "metadata": {},
   "outputs": [
    {
     "name": "stdout",
     "output_type": "stream",
     "text": [
      " *****\n",
      "  ****\n",
      "   ***\n",
      "    **\n",
      "     *\n",
      "    **\n",
      "   ***\n",
      "  ****\n",
      " *****\n"
     ]
    }
   ],
   "source": [
    "n = 5\n",
    "\n",
    "for row in range(1,2*n):\n",
    "    if(row<=n):\n",
    "        total = n-row+1\n",
    "    else:\n",
    "        total = row-n+1\n",
    "    nfs = n-total\n",
    "    for s in range(0,nfs+1):\n",
    "        print(\" \",end = '')\n",
    "    for col in range(1,total+1):\n",
    "        print(\"*\",end = '')\n",
    "    print()\n",
    "        "
   ]
  },
  {
   "cell_type": "code",
   "execution_count": 15,
   "id": "fc23b15e-da6e-4d9f-8c40-0e35c0468352",
   "metadata": {},
   "outputs": [
    {
     "name": "stdout",
     "output_type": "stream",
     "text": [
      "     *\n",
      "    **\n",
      "   ***\n",
      "  ****\n",
      " *****\n",
      " *****\n",
      "  ****\n",
      "   ***\n",
      "    **\n",
      "     *\n"
     ]
    }
   ],
   "source": [
    "n = 5\n",
    "\n",
    "for row in range(1,2*n+1):\n",
    "    if(row<=n):\n",
    "        total = row\n",
    "    else:\n",
    "        total = 2*n - row + 1\n",
    "    nfs = n - total\n",
    "    for s in range(0,nfs+1):\n",
    "        print(\" \",end = '')\n",
    "    for col in range(1,total+1):\n",
    "        print(\"*\",end = '')\n",
    "    print()"
   ]
  },
  {
   "cell_type": "code",
   "execution_count": 16,
   "id": "d56cf99f-5e8e-4d62-ac33-aa6109e822b1",
   "metadata": {},
   "outputs": [
    {
     "name": "stdout",
     "output_type": "stream",
     "text": [
      " *****\n",
      "  ****\n",
      "   ***\n",
      "    **\n",
      "     *\n",
      "     *\n",
      "    **\n",
      "   ***\n",
      "  ****\n",
      " *****\n"
     ]
    }
   ],
   "source": [
    "n = 5\n",
    "for row in range(1,2*n+1):\n",
    "    if(row<=n):\n",
    "        total = n-row+1\n",
    "    else:\n",
    "        total = row-n\n",
    "    nfs = n-total\n",
    "    for s in range(0,nfs+1):\n",
    "        print(\" \",end = '')\n",
    "    for col in range(1,total+1):\n",
    "        print(\"*\",end = '')\n",
    "    print()"
   ]
  },
  {
   "cell_type": "code",
   "execution_count": 25,
   "id": "85f2482e-e183-4d43-9945-ef954aed7da0",
   "metadata": {},
   "outputs": [
    {
     "name": "stdout",
     "output_type": "stream",
     "text": [
      "* * * * * \n",
      "* * * * \n",
      "* * * \n",
      "* * \n",
      "* \n"
     ]
    }
   ],
   "source": [
    "n = 5\n",
    "\n",
    "for row in range(1,n+1):\n",
    "    for col in range(0,n-row+1):\n",
    "        print(\"* \",end='')\n",
    "    print()"
   ]
  },
  {
   "cell_type": "code",
   "execution_count": 39,
   "id": "d12485fb-360d-45f8-bcd2-0fd7a26970ad",
   "metadata": {},
   "outputs": [
    {
     "name": "stdout",
     "output_type": "stream",
     "text": [
      "    * \n",
      "   * * \n",
      "  * * * \n",
      " * * * * \n",
      "* * * * * \n"
     ]
    }
   ],
   "source": [
    "n = 5\n",
    "for row in range(1,n+1):\n",
    "    for s in range(0,n-row):\n",
    "            print(\" \",end = '')\n",
    "    for col in range(1,row+1):\n",
    "            print(\"* \",end = '')\n",
    "    print()"
   ]
  },
  {
   "cell_type": "code",
   "execution_count": 1,
   "id": "f74a88c2-ec73-4cd0-bc0b-ed1214ece27c",
   "metadata": {},
   "outputs": [
    {
     "name": "stdout",
     "output_type": "stream",
     "text": [
      "* \n",
      "* * \n",
      "* * * \n",
      "* * * * \n",
      "* * * * * \n"
     ]
    }
   ],
   "source": [
    "n = 5\n",
    "for r in range(1,n+1):\n",
    "    for c in range(1,r+1):\n",
    "        print(\"* \",end = '')\n",
    "    print()"
   ]
  },
  {
   "cell_type": "code",
   "execution_count": 4,
   "id": "eabd3fd9-3d90-4f87-ab22-99ef459f4d0d",
   "metadata": {},
   "outputs": [
    {
     "name": "stdout",
     "output_type": "stream",
     "text": [
      "* * * * * \n",
      "* * * * \n",
      "* * * \n",
      "* * \n",
      "* \n"
     ]
    }
   ],
   "source": [
    "n = 5\n",
    "for r in range(1,n+1):\n",
    "    for c in range(1,n-r+1+1):\n",
    "        print(\"* \",end = '')\n",
    "    print()"
   ]
  },
  {
   "cell_type": "code",
   "execution_count": 8,
   "id": "3d1e8bc1-1dfa-4095-b762-445aaf0af6ba",
   "metadata": {},
   "outputs": [
    {
     "name": "stdout",
     "output_type": "stream",
     "text": [
      "    *\n",
      "   **\n",
      "  ***\n",
      " ****\n",
      "*****\n"
     ]
    }
   ],
   "source": [
    "n = 5\n",
    "for r in range(1,n+1):\n",
    "    for s in range(0,n-r):\n",
    "        print(\" \",end = '')\n",
    "    for c in range(1,r+1):\n",
    "        print(\"*\",end = '')\n",
    "    print()"
   ]
  },
  {
   "cell_type": "code",
   "execution_count": 10,
   "id": "23b411fc-2a37-4070-a227-6a0ee9a684a5",
   "metadata": {},
   "outputs": [
    {
     "name": "stdout",
     "output_type": "stream",
     "text": [
      "* \n",
      "* * \n",
      "* * * \n",
      "* * * * \n",
      "* * * * * \n",
      "* * * * * \n",
      "* * * * \n",
      "* * * \n",
      "* * \n",
      "* \n"
     ]
    }
   ],
   "source": [
    "n = 5\n",
    "for r in range(1,2*n+1):\n",
    "    if(r<=n):\n",
    "        total = r\n",
    "    else:\n",
    "        total = 2*n-r+1\n",
    "    for c in range(1,total+1):\n",
    "        print(\"* \",end = '')\n",
    "    print()"
   ]
  },
  {
   "cell_type": "code",
   "execution_count": 12,
   "id": "b2c292bd-a72b-4252-bf14-fd9d6f084f45",
   "metadata": {},
   "outputs": [
    {
     "name": "stdout",
     "output_type": "stream",
     "text": [
      "* \n",
      "* * \n",
      "* * * \n",
      "* * * * \n",
      "* * * * * \n",
      "* * * * \n",
      "* * * \n",
      "* * \n",
      "* \n"
     ]
    }
   ],
   "source": [
    "n = 5\n",
    "for r in range(1,2*n):\n",
    "    if(r<=n):\n",
    "        total = r\n",
    "    else:\n",
    "        total = 2*n-r\n",
    "    for c in range(1,total+1):\n",
    "        print(\"* \",end = '')\n",
    "    print()"
   ]
  },
  {
   "cell_type": "code",
   "execution_count": 13,
   "id": "9345890e-e6a4-403d-b35f-2fe29d2acac3",
   "metadata": {},
   "outputs": [
    {
     "name": "stdout",
     "output_type": "stream",
     "text": [
      "* * * * * \n",
      "* * * * \n",
      "* * * \n",
      "* * \n",
      "* \n",
      "* \n",
      "* * \n",
      "* * * \n",
      "* * * * \n",
      "* * * * * \n"
     ]
    }
   ],
   "source": [
    "n = 5\n",
    "\n",
    "for r in range(1,2*n+1):\n",
    "    if(r<=n):\n",
    "        total = n-r+1\n",
    "    else:\n",
    "        total = r-n\n",
    "    for c in range(1,total+1):\n",
    "        print(\"* \",end = '')\n",
    "    print()"
   ]
  },
  {
   "cell_type": "code",
   "execution_count": 14,
   "id": "81fc48b4-399c-4df3-96dd-4d513a6b5318",
   "metadata": {},
   "outputs": [
    {
     "name": "stdout",
     "output_type": "stream",
     "text": [
      "* * * * * \n",
      "* * * * \n",
      "* * * \n",
      "* * \n",
      "* \n",
      "* * \n",
      "* * * \n",
      "* * * * \n",
      "* * * * * \n"
     ]
    }
   ],
   "source": [
    "n = 5\n",
    "for r in range(1,2*n):\n",
    "    if(r<=n):\n",
    "        total = n-r+1\n",
    "    else:\n",
    "        total = r-n+1;\n",
    "    for c in range(1,total+1):\n",
    "        print(\"* \",end = '')\n",
    "    print()"
   ]
  },
  {
   "cell_type": "code",
   "execution_count": 15,
   "id": "c43a890e-92c1-4ab5-b15a-a07302e7c2c9",
   "metadata": {},
   "outputs": [
    {
     "name": "stdout",
     "output_type": "stream",
     "text": [
      "    * \n",
      "   * * \n",
      "  * * * \n",
      " * * * * \n",
      "* * * * * \n"
     ]
    }
   ],
   "source": [
    "n = 5\n",
    "for r in range(1,n+1):\n",
    "    for s in range(1,n-r+1):\n",
    "        print(\" \",end = '')\n",
    "    for c in range(1,r+1):\n",
    "        print(\"* \",end = '')\n",
    "    print()"
   ]
  },
  {
   "cell_type": "code",
   "execution_count": null,
   "id": "df652656-3671-472f-bbf9-50fca5d9aad2",
   "metadata": {},
   "outputs": [],
   "source": []
  }
 ],
 "metadata": {
  "kernelspec": {
   "display_name": "Python 3 (ipykernel)",
   "language": "python",
   "name": "python3"
  },
  "language_info": {
   "codemirror_mode": {
    "name": "ipython",
    "version": 3
   },
   "file_extension": ".py",
   "mimetype": "text/x-python",
   "name": "python",
   "nbconvert_exporter": "python",
   "pygments_lexer": "ipython3",
   "version": "3.11.7"
  }
 },
 "nbformat": 4,
 "nbformat_minor": 5
}
