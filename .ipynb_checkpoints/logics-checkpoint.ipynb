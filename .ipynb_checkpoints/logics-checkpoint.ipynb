{
 "cells": [
  {
   "cell_type": "markdown",
   "id": "e8c8b52a-3045-43b6-be87-106a05174d49",
   "metadata": {},
   "source": [
    "#Logic Building Questions\n"
   ]
  },
  {
   "cell_type": "code",
   "execution_count": 1,
   "id": "a98fde5a-4e69-4308-84db-9b4a0a9d354b",
   "metadata": {},
   "outputs": [
    {
     "name": "stdin",
     "output_type": "stream",
     "text": [
      "Enter the Value 10\n"
     ]
    },
    {
     "name": "stdout",
     "output_type": "stream",
     "text": [
      "1,2,3,4,5,6,7,8,9,10,"
     ]
    }
   ],
   "source": [
    "#wap to print the series of 1,2,3,...n\n",
    "n = int(input(\"Enter the Value\"))\n",
    "\n",
    "for i in range(1,n+1):\n",
    "    print(i,end = ',')"
   ]
  },
  {
   "cell_type": "code",
   "execution_count": 2,
   "id": "b91b36a7-67dd-4ff9-aad4-c93a0650b935",
   "metadata": {},
   "outputs": [
    {
     "name": "stdin",
     "output_type": "stream",
     "text": [
      "Enter the value 10\n"
     ]
    },
    {
     "name": "stdout",
     "output_type": "stream",
     "text": [
      "10,9,8,7,6,5,4,3,2,1,"
     ]
    }
   ],
   "source": [
    "#2. Write a program to print the series N,..3,2,1.\n",
    "n = int(input(\"Enter the value\"))\n",
    "\n",
    "for i in range(n,1-1,-1):\n",
    "    print(i,end = ',')"
   ]
  },
  {
   "cell_type": "code",
   "execution_count": 3,
   "id": "9ca51610-10f4-46dd-9087-fb2f40aafd9d",
   "metadata": {},
   "outputs": [
    {
     "name": "stdin",
     "output_type": "stream",
     "text": [
      "Enter a value for loop 10\n"
     ]
    },
    {
     "name": "stdout",
     "output_type": "stream",
     "text": [
      "1,4,9,16,25,36,49,64,81,100,"
     ]
    }
   ],
   "source": [
    "#3. Write a program to print the first N terms of the series 1,4,9,16.....\n",
    "n = int(input(\"Enter a value for loop\"))\n",
    "\n",
    "for i in range(1,n+1):\n",
    "    i=i**2\n",
    "    print(i,end = ',')"
   ]
  },
  {
   "cell_type": "code",
   "execution_count": 4,
   "id": "3fb10d4b-adfc-4ed9-9d12-fd098ef35b68",
   "metadata": {},
   "outputs": [
    {
     "name": "stdin",
     "output_type": "stream",
     "text": [
      "Enter the value for loop 10\n"
     ]
    },
    {
     "name": "stdout",
     "output_type": "stream",
     "text": [
      "1,8,27,64,125,216,343,512,729,1000,"
     ]
    }
   ],
   "source": [
    "#4. Write a program to print the first N terms of the series 1,8,27,64.....\n",
    "n = int(input(\"Enter the value for loop\"))\n",
    "\n",
    "for i in range(1,n+1):\n",
    "    i = i**3\n",
    "    print(i,end=',')"
   ]
  },
  {
   "cell_type": "code",
   "execution_count": 5,
   "id": "de3cf5aa-a6b4-44b7-b3f0-5400ff47dd9e",
   "metadata": {},
   "outputs": [
    {
     "name": "stdin",
     "output_type": "stream",
     "text": [
      "Enter a value: 10\n"
     ]
    },
    {
     "name": "stdout",
     "output_type": "stream",
     "text": [
      "1,3,5,7,9,"
     ]
    }
   ],
   "source": [
    "#5. Write a program to print the first N terms of the series 1,3,5,.....\n",
    "n = int(input(\"Enter a value:\"))\n",
    "\n",
    "for i in range(1,n+1,2):\n",
    "    print(i,end = ',')"
   ]
  },
  {
   "cell_type": "code",
   "execution_count": 6,
   "id": "33024c55-7c02-475e-a688-b147e680dc36",
   "metadata": {},
   "outputs": [
    {
     "name": "stdin",
     "output_type": "stream",
     "text": [
      "Enter the value 10\n"
     ]
    },
    {
     "name": "stdout",
     "output_type": "stream",
     "text": [
      "0,2,4,6,8,10,"
     ]
    }
   ],
   "source": [
    "#6. Write a program to print the first N terms of the series 0,2,4,.....\n",
    "n=int(input(\"Enter the value\"))\n",
    "\n",
    "for i in range(0,n+1,2):\n",
    "    print(i,end=',')\n",
    "    "
   ]
  },
  {
   "cell_type": "code",
   "execution_count": 7,
   "id": "dae1a1f9-2506-4ac1-a1ca-c537d844d9e9",
   "metadata": {},
   "outputs": [
    {
     "name": "stdin",
     "output_type": "stream",
     "text": [
      "Enter the Value 10\n"
     ]
    },
    {
     "name": "stdout",
     "output_type": "stream",
     "text": [
      "-1,1,-1,1,-1,1,-1,1,-1,1,"
     ]
    }
   ],
   "source": [
    "#7. Write a program to print the first N terms of the series 1,-1,1,-1,.....\n",
    "n =int(input(\"Enter the Value\"))\n",
    "\n",
    "for i in range(1,n+1):\n",
    "    if(i%2==0):\n",
    "        print(1,end=',')\n",
    "    else:\n",
    "        print(-1,end = ',')\n",
    "    \n",
    "    "
   ]
  },
  {
   "cell_type": "code",
   "execution_count": 8,
   "id": "d4d8daab-b5bc-4f5c-8dd6-e76cb5ba6ea4",
   "metadata": {},
   "outputs": [
    {
     "name": "stdin",
     "output_type": "stream",
     "text": [
      "Enter the Value 10\n"
     ]
    },
    {
     "name": "stdout",
     "output_type": "stream",
     "text": [
      "1,0,1,0,1,0,1,0,1,0,"
     ]
    }
   ],
   "source": [
    "#8. Write a program to print the first N terms of the series 1,0,1,0.....\n",
    "n=int(input(\"Enter the Value\"))\n",
    "\n",
    "for i in range(1,n+1):\n",
    "    if(i%2==0):\n",
    "        print(0,end = ',')\n",
    "    else:\n",
    "        print(1,end = ',')"
   ]
  },
  {
   "cell_type": "code",
   "execution_count": 9,
   "id": "faad6347-1910-4471-a0fb-fc4c9cf48e37",
   "metadata": {},
   "outputs": [
    {
     "name": "stdin",
     "output_type": "stream",
     "text": [
      "Enter a value--> 10\n"
     ]
    },
    {
     "name": "stdout",
     "output_type": "stream",
     "text": [
      "99\n",
      "999\n",
      "9999\n",
      "99999\n",
      "999999\n",
      "9999999\n",
      "99999999\n",
      "999999999\n",
      "9999999999\n",
      "99999999999\n"
     ]
    }
   ],
   "source": [
    "#10.Write a program to print the first N terms of the series 9,99,999,.....\n",
    "n = int(input(\"Enter a value-->\"))\n",
    "\n",
    "term = 9\n",
    "for i in range(n):\n",
    "    term = term*10+9\n",
    "    print(term)"
   ]
  },
  {
   "cell_type": "code",
   "execution_count": 10,
   "id": "dd480f4b-3500-435a-9ead-fd2f79635e18",
   "metadata": {},
   "outputs": [
    {
     "name": "stdin",
     "output_type": "stream",
     "text": [
      "Enter a value: 10\n"
     ]
    },
    {
     "name": "stdout",
     "output_type": "stream",
     "text": [
      "0,1,2,3,0,1,2,3,0,1,"
     ]
    }
   ],
   "source": [
    "#11.Write a program to print the first N terms of the series 0,1,2,3,0,1,2,3,0,1,.....\n",
    "n = int(input(\"Enter a value:\"))\n",
    "\n",
    "for i in range(n):\n",
    "    i = i%4\n",
    "    print(i,end = ',')"
   ]
  },
  {
   "cell_type": "code",
   "execution_count": 11,
   "id": "1b25da05-d232-403d-8b97-10fc46af6a04",
   "metadata": {},
   "outputs": [
    {
     "name": "stdin",
     "output_type": "stream",
     "text": [
      "Enter a value: 101\n"
     ]
    },
    {
     "name": "stdout",
     "output_type": "stream",
     "text": [
      "1,2,3,4,0,1,2,3,4,0,1,2,3,4,0,1,2,3,4,0,1,2,3,4,0,1,2,3,4,0,1,2,3,4,0,1,2,3,4,0,1,2,3,4,0,1,2,3,4,0,1,2,3,4,0,1,2,3,4,0,1,2,3,4,0,1,2,3,4,0,1,2,3,4,0,1,2,3,4,0,1,2,3,4,0,1,2,3,4,0,1,2,3,4,0,1,2,3,4,0,1,"
     ]
    }
   ],
   "source": [
    "#12.Write a program to print the first N terms of the series 1,2,3,4,1,2,3,4,1,2,.....\n",
    "n = int(input(\"Enter a value:\"))\n",
    "\n",
    "for i in range(1,n+1):\n",
    "    i = i%5\n",
    "    print(i,end = ',')"
   ]
  },
  {
   "cell_type": "code",
   "execution_count": 12,
   "id": "eb152819-cea0-4e07-a879-1b17a33cc171",
   "metadata": {},
   "outputs": [
    {
     "name": "stdin",
     "output_type": "stream",
     "text": [
      "Enter a value: 20\n"
     ]
    },
    {
     "name": "stdout",
     "output_type": "stream",
     "text": [
      "1,2,3,5,8,13,21,34,55,89,144,233,377,610,987,1597,2584,4181,6765,10946,"
     ]
    }
   ],
   "source": [
    "#13.Write a program to print first N terms of the Fibonacci series 0, 1, 1, 2, 3, 5,...\n",
    "n = int(input(\"Enter a value:\"))\n",
    "num1 = 0\n",
    "num2 = 1\n",
    "count = 1\n",
    "nxt_num = num2\n",
    "\n",
    "while(count<=n):\n",
    "    print(nxt_num,end=',')\n",
    "    count+=1\n",
    "    num1,num2=num2,nxt_num\n",
    "    nxt_num=num1 + num2"
   ]
  },
  {
   "cell_type": "code",
   "execution_count": 13,
   "id": "77ed7e7f-c473-45d2-94b8-7b8725923580",
   "metadata": {},
   "outputs": [
    {
     "name": "stdin",
     "output_type": "stream",
     "text": [
      "enter a value: 10\n"
     ]
    },
    {
     "name": "stdout",
     "output_type": "stream",
     "text": [
      "1,2,4,7,13,24,44,81,149,274,"
     ]
    }
   ],
   "source": [
    "#14.Write a program to print first N terms of the Tribonacci series 0,0,1,1,2,4,7,13…\n",
    "n = int(input(\"enter a value:\"))\n",
    "num1 = 0\n",
    "num2 = 0\n",
    "num3 = 1\n",
    "count = 1\n",
    "nxt_num = num3\n",
    "while(count<=n):\n",
    "    print(nxt_num,end = ',')\n",
    "    count+=1\n",
    "    num1,num2,num3 = num2,num3,nxt_num\n",
    "    nxt_num =num1+ num2 + num3"
   ]
  },
  {
   "cell_type": "code",
   "execution_count": 14,
   "id": "7d9cc3ad-43a6-47e7-9ae5-16e6e77214cf",
   "metadata": {},
   "outputs": [
    {
     "name": "stdin",
     "output_type": "stream",
     "text": [
      "Enter a value: 10\n"
     ]
    },
    {
     "name": "stdout",
     "output_type": "stream",
     "text": [
      "1\n"
     ]
    }
   ],
   "source": [
    "#15.Write a program to calculate sum of digits of a number.\n",
    "n = int(input(\"Enter a value:\"))\n",
    "sum = 0\n",
    "while(n>0):\n",
    "    digit = n%10\n",
    "    sum = sum + digit\n",
    "    n = n//10\n",
    "print(sum)"
   ]
  },
  {
   "cell_type": "code",
   "execution_count": null,
   "id": "b6654eed-7e99-4f8f-9a36-1373febe3452",
   "metadata": {},
   "outputs": [],
   "source": [
    "#16.Write a program to count digits of a number.\n",
    "n= int(input(\"Enter a value\"))\n",
    "count = 0\n",
    "while(n>0):\n",
    "    count = count+1\n",
    "    n=n//10\n",
    "print(count)"
   ]
  },
  {
   "cell_type": "code",
   "execution_count": 10,
   "id": "30bb9777-4cda-49ec-9cbe-71d4a0f4c449",
   "metadata": {
    "jp-MarkdownHeadingCollapsed": true
   },
   "outputs": [
    {
     "name": "stdin",
     "output_type": "stream",
     "text": [
      "Enter a value: 1234\n"
     ]
    },
    {
     "name": "stdout",
     "output_type": "stream",
     "text": [
      "4321\n"
     ]
    }
   ],
   "source": [
    "#17.Write a program to reverse a number\n",
    "n = int(input(\"Enter a value:\"))\n",
    "rev = 0\n",
    "while(n!=0):\n",
    "    digit = n%10\n",
    "    rev = rev*10+digit\n",
    "    n=n//10\n",
    "print(rev)\n"
   ]
  },
  {
   "cell_type": "code",
   "execution_count": 30,
   "id": "e92b9b1f-4647-4a51-a579-0e0a9ff1f3ed",
   "metadata": {},
   "outputs": [
    {
     "name": "stdin",
     "output_type": "stream",
     "text": [
      "Enter a num: 1111\n"
     ]
    },
    {
     "name": "stdout",
     "output_type": "stream",
     "text": [
      "Palindrome\n"
     ]
    }
   ],
   "source": [
    "#Write a program to check whether a given number is palindrome or not.\n",
    "n = int(input(\"Enter a num:\"))\n",
    "temp =n\n",
    "rev = 0\n",
    "while(n!=0):\n",
    "    digit = n%10\n",
    "    rev = rev*10 + digit\n",
    "    n = n//10\n",
    "if(rev==temp):\n",
    "    print(\"Palindrome\")\n",
    "else:\n",
    "    print(\"Number is not a palindrome\")"
   ]
  },
  {
   "cell_type": "code",
   "execution_count": 1,
   "id": "3c6e7ef4-29a6-4044-9c3b-a7ea68e66404",
   "metadata": {},
   "outputs": [
    {
     "name": "stdin",
     "output_type": "stream",
     "text": [
      "Enter a value: 5\n"
     ]
    },
    {
     "name": "stdout",
     "output_type": "stream",
     "text": [
      "The Factorial of 5 is 120\n"
     ]
    }
   ],
   "source": [
    "#19.Write a program to calculate factorial of a number.\n",
    "n = int(input(\"Enter a value:\"))\n",
    "fact = 1\n",
    "for i in range(1,n+1):\n",
    "    fact = fact*i\n",
    "print(f\"The Factorial of {n} is {fact}\")"
   ]
  },
  {
   "cell_type": "code",
   "execution_count": 36,
   "id": "f62e4aee-2e66-4b3c-90d0-d100c72b620c",
   "metadata": {},
   "outputs": [
    {
     "name": "stdin",
     "output_type": "stream",
     "text": [
      "Enter a value: 3\n"
     ]
    },
    {
     "name": "stdout",
     "output_type": "stream",
     "text": [
      "9\n"
     ]
    }
   ],
   "source": [
    "#20.Write a program to calculate power P of a number N.\n",
    "n = int(input(\"Enter a value:\"))\n",
    "for i in range(1,n+1):\n",
    "    i = i*n\n",
    "print(i)"
   ]
  },
  {
   "cell_type": "code",
   "execution_count": 5,
   "id": "23fa02f4-66e1-4a87-8ea5-63d188a0646e",
   "metadata": {},
   "outputs": [
    {
     "name": "stdin",
     "output_type": "stream",
     "text": [
      "Enter a value: 100\n"
     ]
    },
    {
     "name": "stdout",
     "output_type": "stream",
     "text": [
      "The first 100 prime no.s are\n",
      "1,3,5,7,9,11,13,15,17,19,21,23,25,27,29,31,33,35,37,39,41,43,45,47,49,51,53,55,57,59,61,63,65,67,69,71,73,75,77,79,81,83,85,87,89,91,93,95,97,99,"
     ]
    }
   ],
   "source": [
    "#25.Write a program to check whether a given number is prime or not.\n",
    "n = int(input(\"Enter a value:\"))\n",
    "print(f\"The first {n} prime no.s are\")\n",
    "for i in range(1,n+1,2):\n",
    "    print(i,end=',')"
   ]
  },
  {
   "cell_type": "code",
   "execution_count": 7,
   "id": "aa0de964-462b-4b26-aa3b-4200215b7ebf",
   "metadata": {},
   "outputs": [
    {
     "name": "stdin",
     "output_type": "stream",
     "text": [
      "Enter a value: 24\n",
      "Enter a value: 25\n"
     ]
    },
    {
     "name": "stdout",
     "output_type": "stream",
     "text": [
      "The lcm of 24 and 25 is 600 \n"
     ]
    }
   ],
   "source": [
    "#28.Write a program to input two numbers and calculate their LCM & HCF.\n",
    "n1 = int(input(\"Enter a value:\"))\n",
    "n2 = int(input(\"Enter a value:\"))\n",
    "\n",
    "a = n1\n",
    "b = n2\n",
    "\n",
    "while b:\n",
    "    a,b=b,a%b\n",
    "\n",
    "gcd = a\n",
    "\n",
    "lcm = (n1*n2)//gcd\n",
    "\n",
    "print(f\"The lcm of {n1} and {n2} is {lcm} \")"
   ]
  },
  {
   "cell_type": "code",
   "execution_count": 11,
   "id": "48d55fdd-75f4-441f-b424-d512addce199",
   "metadata": {},
   "outputs": [
    {
     "name": "stdin",
     "output_type": "stream",
     "text": [
      "Enter a value 407\n"
     ]
    },
    {
     "name": "stdout",
     "output_type": "stream",
     "text": [
      "This is an armstrong no.\n"
     ]
    }
   ],
   "source": [
    "#Write a program to check whether a given number is Armstrong or not. For example 153 is a Armstrong number. There are 3 digits in 153. 1^3+5^3+3^3=1+125+27=153.\n",
    "n = int(input(\"Enter a value\"))\n",
    "temp = n\n",
    "rev = 0\n",
    "sum = 0\n",
    "\n",
    "while(n!=0):\n",
    "    digit = n%10\n",
    "    rev = digit **3 + rev\n",
    "    sum = sum + rev\n",
    "    n=n//10\n",
    "if(temp==rev):\n",
    "    print(\"This is an armstrong no.\")\n",
    "else:\n",
    "    print(\"This is not an armstrong no.\")"
   ]
  },
  {
   "cell_type": "code",
   "execution_count": 6,
   "id": "7b8e3e16-3846-4f8d-b2a2-ec1ea5a3c6a4",
   "metadata": {},
   "outputs": [
    {
     "name": "stdin",
     "output_type": "stream",
     "text": [
      "Enter a value: 10\n",
      "Enter a value: 20\n",
      "Enter a operator **\n"
     ]
    },
    {
     "name": "stdout",
     "output_type": "stream",
     "text": [
      "100 400\n"
     ]
    }
   ],
   "source": [
    "#40.Write a program to design a calculator that can do following operations1. Add2. Sub3. Multiply4. Division5. Mod6. Pow7. SQRT0. Exit\n",
    "\n",
    "a = int(input(\"Enter a value:\"))\n",
    "b = int(input(\"Enter a value:\"))\n",
    "operator = input(\"Enter a operator\")\n",
    "\n",
    "if(operator ==\"+\"):\n",
    "    print(a+b)\n",
    "elif(operator==\"-\"):\n",
    "    print(a-b)\n",
    "elif(operator==\"*\"):\n",
    "    print(a*b)\n",
    "elif(operator==\"/\"):\n",
    "    print(a/b)\n",
    "elif(operator==\"%\"):\n",
    "    print(a%b)\n",
    "elif(operator==\"**\"):\n",
    "    print(a**2,b**2)\n"
   ]
  },
  {
   "cell_type": "code",
   "execution_count": 10,
   "id": "70eb7c4d-2a08-49d6-8d84-4a7f9c22d11a",
   "metadata": {},
   "outputs": [
    {
     "name": "stdout",
     "output_type": "stream",
     "text": [
      "8\n"
     ]
    }
   ],
   "source": [
    "import random as rd\n",
    "a=rd.randint(1,10)\n",
    "print(a)"
   ]
  },
  {
   "cell_type": "code",
   "execution_count": 12,
   "id": "b024fe89-2176-483d-b729-9ae59e56f94c",
   "metadata": {},
   "outputs": [
    {
     "name": "stdin",
     "output_type": "stream",
     "text": [
      "Enter a value: 5\n"
     ]
    },
    {
     "name": "stdout",
     "output_type": "stream",
     "text": [
      "*\n",
      "**\n",
      "***\n",
      "****\n",
      "*****\n"
     ]
    }
   ],
   "source": [
    "n = int(input(\"Enter a value:\"))\n",
    "for i in range(0,n):\n",
    "    for j in range(0,i+1):\n",
    "        print(\"*\",end=\"\")\n",
    "    print()\n"
   ]
  },
  {
   "cell_type": "code",
   "execution_count": 46,
   "id": "adcae246-d329-4981-ad45-16e771b6008f",
   "metadata": {},
   "outputs": [
    {
     "name": "stdin",
     "output_type": "stream",
     "text": [
      "Enter a value: 5\n"
     ]
    },
    {
     "name": "stdout",
     "output_type": "stream",
     "text": [
      "54321\n",
      "5432\n",
      "543\n",
      "54\n",
      "5\n"
     ]
    }
   ],
   "source": [
    "#Wap right angled pattern question\n",
    "a = int(input(\"Enter a value:\"))\n",
    "num = 5\n",
    "for i in range(1,a+1):\n",
    "    for j in range(5,i-1,-1):\n",
    "        print(j,end=\"\")\n",
    "    print()"
   ]
  },
  {
   "cell_type": "code",
   "execution_count": 30,
   "id": "5743e01b-f6b1-4155-8886-5ec28eb232f1",
   "metadata": {},
   "outputs": [
    {
     "name": "stdout",
     "output_type": "stream",
     "text": [
      "        * \n",
      "      * * * \n",
      "    * * * * * \n",
      "  * * * * * * * \n",
      "* * * * * * * * * \n"
     ]
    }
   ],
   "source": [
    "def pat_tri(n):\n",
    "    for i in range(1,n+1):\n",
    "        for j in  range(n-i):\n",
    "            print(\" \",end = \" \")\n",
    "        for k in range(1,2*i):\n",
    "            print(\"*\",end = \" \")\n",
    "        print()\n",
    "pat_tri(5)"
   ]
  },
  {
   "cell_type": "code",
   "execution_count": 52,
   "id": "59f93559-39ee-4d8f-9569-7d525cba12a5",
   "metadata": {},
   "outputs": [
    {
     "name": "stdout",
     "output_type": "stream",
     "text": [
      "1 \n",
      "1 2 \n",
      "1 2 3 \n",
      "1 2 3 4 \n",
      "1 2 3 4 5 \n"
     ]
    }
   ],
   "source": [
    "def new_one(n):\n",
    "    num = 1\n",
    "    for i in range(1,n+1):\n",
    "        num = 1\n",
    "        for j in range(1,i+1):\n",
    "            print(num,end = \" \")\n",
    "            num = num + 1\n",
    "        print(\"\")\n",
    "n = 5\n",
    "new_one(n)\n",
    "        "
   ]
  },
  {
   "cell_type": "code",
   "execution_count": null,
   "id": "3f9d182d-8a73-4d33-983c-5f703d1f6e71",
   "metadata": {},
   "outputs": [],
   "source": []
  },
  {
   "cell_type": "code",
   "execution_count": 4,
   "id": "b0ae5639-e46e-4c37-8aad-5a900efe4c75",
   "metadata": {},
   "outputs": [
    {
     "name": "stdout",
     "output_type": "stream",
     "text": [
      " * * * * *\n",
      " * * * * *\n",
      " * * * * *\n",
      " * * * * *\n",
      " * * * * *\n",
      " * * * * *\n"
     ]
    }
   ],
   "source": [
    "#wap to print a rectangle\n",
    "def rectangle(n):\n",
    "    for i in range(0,n+1):\n",
    "        for j in range(n):\n",
    "            print(\" *\",end = '')\n",
    "        print()\n",
    "\n",
    "rectangle(5)\n",
    "        "
   ]
  },
  {
   "cell_type": "code",
   "execution_count": 8,
   "id": "c73021c3-d4c8-485e-81bf-2aabfea2b05a",
   "metadata": {},
   "outputs": [
    {
     "name": "stdout",
     "output_type": "stream",
     "text": [
      "* \n",
      "* * \n",
      "* * * \n",
      "* * * * \n",
      "* * * * * \n",
      "* * * * * * \n"
     ]
    }
   ],
   "source": [
    "def left_tri(n):\n",
    "    for i in range(0,n+1):\n",
    "        for j in range(i+1):\n",
    "            print(\"*\",end = ' ')\n",
    "        print()\n",
    "\n",
    "left_tri(5)"
   ]
  },
  {
   "cell_type": "code",
   "execution_count": null,
   "id": "c8e4b3cb-b374-488f-b483-05d52c64a068",
   "metadata": {},
   "outputs": [],
   "source": []
  }
 ],
 "metadata": {
  "kernelspec": {
   "display_name": "Python 3 (ipykernel)",
   "language": "python",
   "name": "python3"
  },
  "language_info": {
   "codemirror_mode": {
    "name": "ipython",
    "version": 3
   },
   "file_extension": ".py",
   "mimetype": "text/x-python",
   "name": "python",
   "nbconvert_exporter": "python",
   "pygments_lexer": "ipython3",
   "version": "3.11.7"
  }
 },
 "nbformat": 4,
 "nbformat_minor": 5
}
